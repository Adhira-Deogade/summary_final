{
 "cells": [
  {
   "cell_type": "code",
   "execution_count": 1,
   "metadata": {},
   "outputs": [
    {
     "name": "stderr",
     "output_type": "stream",
     "text": [
      "/home/ubuntu/anaconda3/envs/tensorflow_p36/lib/python3.6/site-packages/h5py/__init__.py:36: FutureWarning: Conversion of the second argument of issubdtype from `float` to `np.floating` is deprecated. In future, it will be treated as `np.float64 == np.dtype(float).type`.\n",
      "  from ._conv import register_converters as _register_converters\n"
     ]
    }
   ],
   "source": [
    "import sys\n",
    "import time\n",
    "import os\n",
    "import tensorflow as tf\n",
    "import numpy as np\n",
    "\n",
    "from collections import namedtuple\n",
    "from tensorflow.python import debug as tf_debug\n",
    "from tensorflow.core.example import example_pb2\n",
    "from importlib import reload\n",
    "\n",
    "import json, os, re, shutil, sys, time\n",
    "import collections, itertools\n"
   ]
  },
  {
   "cell_type": "code",
   "execution_count": 2,
   "metadata": {},
   "outputs": [],
   "source": [
    "import glob\n",
    "import random\n",
    "import struct\n",
    "import csv\n",
    "import batch; reload(batch)\n",
    "import data; reload(data)\n",
    "import model; reload(model)\n",
    "\n",
    "from batch import Example,Batch\n",
    "from batcher import Batcher\n",
    "from data import Vocab\n",
    "from model import SummarizationModel\n",
    "from decode import BeamSearchDecoder\n",
    "import training_util as tutil\n",
    "\n"
   ]
  },
  {
   "cell_type": "code",
   "execution_count": 3,
   "metadata": {},
   "outputs": [],
   "source": [
    "def setup_decode_params():\n",
    "    hps_dict = {\n",
    "        'mode' : 'decode',\n",
    "        'single_pass' : True,\n",
    "        'log_root' : '/home/ubuntu/W266/final_0/W266_Final/model_3/saved',\n",
    "        'cp_dir':'train',\n",
    "        'hidden_dim' : 200,\n",
    "        'emb_dim' : 128,\n",
    "        'batch_size' : 4,     #<---------- Keep same as beam size\n",
    "        'max_enc_steps' : 400,\n",
    "        'max_dec_steps' : 1,        #<---------------Keep at 1\n",
    "        'beam_dec_steps' : 120, # Decode steps during beam search\n",
    "        'beam_size' : 4,\n",
    "        'min_dec_steps' : 35,\n",
    "        'vocab_size' : 50000,\n",
    "        'lr' : 0.15,\n",
    "        'adagrad_init_acc' : 0.1,\n",
    "        'rand_unif_init_mag' : 0.02,\n",
    "        'trunc_norm_init_std' : 1e-4,\n",
    "        'max_grad_norm' : 2.0,\n",
    "        'pointer_gen' : False,\n",
    "        'coverage' : False,\n",
    "        'cov_loss_wt' : 1.0,\n",
    "        'vocab_path' : '/home/ubuntu/W266/final_0/W266_Final/data/final_processed/vocab',\n",
    "        'data_path' : '/home/ubuntu/W266/final_0/W266_Final/data/final_chunked/validation_001*'\n",
    "    }\n",
    "    \n",
    "    hps = namedtuple(\"HParams\", hps_dict.keys())(**hps_dict)\n",
    "    return hps"
   ]
  },
  {
   "cell_type": "code",
   "execution_count": 4,
   "metadata": {},
   "outputs": [
    {
     "name": "stdout",
     "output_type": "stream",
     "text": [
      "Warning: incorrectly formatted line in vocabulary file: 0800 555 111 252\n",
      "\n",
      "\n",
      "Warning: incorrectly formatted line in vocabulary file: 1800 333 000 110\n",
      "\n",
      "\n",
      "Warning: incorrectly formatted line in vocabulary file: 2 1/2 76\n",
      "\n",
      "\n",
      "max_size of vocab was specified as 50000; we now have 50000 words. Stopping reading.\n",
      "Finished constructing vocabulary of 50000 total words. Last word added: 16:03\n",
      "INFO:tensorflow:Fetching data..\n",
      "INFO:tensorflow:Creating batches..\n",
      "INFO:tensorflow:[TOTAL Batches]  : 999\n",
      "INFO:tensorflow:[TOTAL Examples] : 999\n",
      "INFO:tensorflow:Creating batches..COMPLETE\n"
     ]
    }
   ],
   "source": [
    "hps = setup_decode_params()\n",
    "vocab = Vocab(hps.vocab_path, hps.vocab_size)\n",
    "batches = tutil.get_decode_data(hps,vocab,hps.data_path,False)"
   ]
  },
  {
   "cell_type": "code",
   "execution_count": 5,
   "metadata": {},
   "outputs": [
    {
     "name": "stdout",
     "output_type": "stream",
     "text": [
      "INFO:tensorflow:Building core graph...\n",
      "INFO:tensorflow:Adding attention_decoder timestep 0 of 1\n",
      "INFO:tensorflow:Building core graph...COMPLETE\n",
      "INFO:tensorflow:Building Sampler graph...\n",
      "INFO:tensorflow:Building Sampler graph...COMPLETE\n",
      "INFO:tensorflow:Loading checkpoint /home/ubuntu/W266/final_0/W266_Final/model_3/saved/train/model-18\n",
      "INFO:tensorflow:Restoring parameters from /home/ubuntu/W266/final_0/W266_Final/model_3/saved/train/model-18\n",
      "INFO:tensorflow:Added 0 to file\n",
      "INFO:tensorflow:Added 1 to file\n",
      "INFO:tensorflow:Added 2 to file\n",
      "INFO:tensorflow:Added 3 to file\n",
      "INFO:tensorflow:Added 4 to file\n",
      "INFO:tensorflow:Added 5 to file\n",
      "INFO:tensorflow:Added 6 to file\n",
      "INFO:tensorflow:Added 7 to file\n",
      "INFO:tensorflow:Added 8 to file\n",
      "INFO:tensorflow:Added 9 to file\n",
      "======================================================================\n",
      "======================================================================\n",
      "ROUGE SCORES\n",
      "{'rouge-1': {'f': 0.0, 'p': 0.0, 'r': 0.0}, 'rouge-2': {'f': 0.0, 'p': 0.0, 'r': 0.0}, 'rouge-l': {'f': 0.0, 'p': 0.0, 'r': 0.0}}\n",
      "======================================================================\n",
      "======================================================================\n"
     ]
    }
   ],
   "source": [
    "tf.reset_default_graph()\n",
    "model_params = dict(hps=hps, \n",
    "                    vocab=vocab)\n",
    "\n",
    "lm = SummarizationModel(**model_params)\n",
    "lm.BuildCoreGraph()\n",
    "lm.BuildSamplerGraph()\n",
    "lm.summarizeGraph()\n",
    "\n",
    "with lm.graph.as_default():\n",
    "    initializer = tf.global_variables_initializer()\n",
    "    saver = tf.train.Saver()\n",
    "\n",
    "with tf.Session(graph=lm.graph) as session:\n",
    "    decoder = BeamSearchDecoder(lm, session, vocab, hps, saver)\n",
    "    decoder.decode(batches) "
   ]
  },
  {
   "cell_type": "code",
   "execution_count": null,
   "metadata": {},
   "outputs": [],
   "source": []
  }
 ],
 "metadata": {
  "kernelspec": {
   "display_name": "Environment (conda_tensorflow_p36)",
   "language": "python",
   "name": "conda_tensorflow_p36"
  },
  "language_info": {
   "codemirror_mode": {
    "name": "ipython",
    "version": 3
   },
   "file_extension": ".py",
   "mimetype": "text/x-python",
   "name": "python",
   "nbconvert_exporter": "python",
   "pygments_lexer": "ipython3",
   "version": "3.6.6"
  }
 },
 "nbformat": 4,
 "nbformat_minor": 2
}

{
 "cells": [
  {
   "cell_type": "code",
   "execution_count": 1,
   "metadata": {},
   "outputs": [
    {
     "name": "stderr",
     "output_type": "stream",
     "text": [
      "/home/ubuntu/anaconda3/envs/tensorflow_p36/lib/python3.6/site-packages/h5py/__init__.py:36: FutureWarning: Conversion of the second argument of issubdtype from `float` to `np.floating` is deprecated. In future, it will be treated as `np.float64 == np.dtype(float).type`.\n",
      "  from ._conv import register_converters as _register_converters\n"
     ]
    }
   ],
   "source": [
    "import sys\n",
    "import time\n",
    "import os\n",
    "import tensorflow as tf\n",
    "import numpy as np\n",
    "\n",
    "from collections import namedtuple\n",
    "from tensorflow.python import debug as tf_debug\n",
    "from tensorflow.core.example import example_pb2\n",
    "from importlib import reload\n",
    "\n",
    "import json, os, re, shutil, sys, time\n",
    "import collections, itertools\n"
   ]
  },
  {
   "cell_type": "code",
   "execution_count": 2,
   "metadata": {},
   "outputs": [],
   "source": [
    "import glob\n",
    "import random\n",
    "import struct\n",
    "import csv\n",
    "import batch; reload(batch)\n",
    "import data; reload(data)\n",
    "import model; reload(model)\n",
    "\n",
    "from batch import Example,Batch\n",
    "from batcher import Batcher\n",
    "from data import Vocab\n",
    "from model import SummarizationModel\n",
    "from decode import BeamSearchDecoder\n",
    "import training_util as tutil\n",
    "\n"
   ]
  },
  {
   "cell_type": "code",
   "execution_count": 3,
   "metadata": {},
   "outputs": [],
   "source": [
    "def setup_decode_params():\n",
    "    hps_dict = {\n",
    "        'mode' : 'decode',\n",
    "        'single_pass' : True,\n",
    "        'log_root' : '/home/ubuntu/W266/final_0/W266_Final/model_3/saved',\n",
    "        'cp_dir':'train',\n",
    "        'hidden_dim' : 200,\n",
    "        'emb_dim' : 128,\n",
    "        'batch_size' : 4,     #<---------- Keep same as beam size\n",
    "        'max_enc_steps' : 400,\n",
    "        'max_dec_steps' : 1,        #<---------------Keep at 1\n",
    "        'beam_dec_steps' : 120, # Decode steps during beam search\n",
    "        'beam_size' : 4,\n",
    "        'min_dec_steps' : 35,\n",
    "        'vocab_size' : 50000,\n",
    "        'lr' : 0.15,\n",
    "        'adagrad_init_acc' : 0.1,\n",
    "        'rand_unif_init_mag' : 0.02,\n",
    "        'trunc_norm_init_std' : 1e-4,\n",
    "        'max_grad_norm' : 2.0,\n",
    "        'pointer_gen' : False,\n",
    "        'coverage' : False,\n",
    "        'cov_loss_wt' : 1.0,\n",
    "        'vocab_path' : '/home/ubuntu/W266/final_0/W266_Final/data/final_processed/vocab',\n",
    "        'data_path' : '/home/ubuntu/W266/final_0/W266_Final/data/final_chunked/validation_001*'\n",
    "    }\n",
    "    \n",
    "    hps = namedtuple(\"HParams\", hps_dict.keys())(**hps_dict)\n",
    "    return hps"
   ]
  },
  {
   "cell_type": "code",
   "execution_count": 4,
   "metadata": {},
   "outputs": [
    {
     "name": "stdout",
     "output_type": "stream",
     "text": [
      "Warning: incorrectly formatted line in vocabulary file: 0800 555 111 252\n",
      "\n",
      "\n",
      "Warning: incorrectly formatted line in vocabulary file: 1800 333 000 110\n",
      "\n",
      "\n",
      "Warning: incorrectly formatted line in vocabulary file: 2 1/2 76\n",
      "\n",
      "\n",
      "max_size of vocab was specified as 50000; we now have 50000 words. Stopping reading.\n",
      "Finished constructing vocabulary of 50000 total words. Last word added: 16:03\n"
     ]
    }
   ],
   "source": [
    "hps = setup_decode_params()\n",
    "vocab = Vocab(hps.vocab_path, hps.vocab_size)"
   ]
  },
  {
   "cell_type": "code",
   "execution_count": 5,
   "metadata": {},
   "outputs": [
    {
     "name": "stdout",
     "output_type": "stream",
     "text": [
      "INFO:tensorflow:Fetching data..\n",
      "INFO:tensorflow:Creating batches..\n",
      "INFO:tensorflow:[TOTAL Batches]  : 1\n",
      "INFO:tensorflow:[TOTAL Examples] : 1\n",
      "INFO:tensorflow:Creating batches..COMPLETE\n",
      "INFO:tensorflow:Building core graph...\n",
      "INFO:tensorflow:Adding attention_decoder timestep 0 of 1\n",
      "INFO:tensorflow:Building core graph...COMPLETE\n",
      "INFO:tensorflow:Building Sampler graph...\n",
      "INFO:tensorflow:Building Sampler graph...COMPLETE\n",
      "INFO:tensorflow:Loading checkpoint /home/ubuntu/W266/final_0/W266_Final/model_3/saved/train/model-18\n",
      "INFO:tensorflow:Restoring parameters from /home/ubuntu/W266/final_0/W266_Final/model_3/saved/train/model-18\n",
      "---------------------------------------------------------------------------\n",
      "INFO:tensorflow:ARTICLE:  by . erin clements . since making her 1959 debut , barbie has done stints as an astronaut , a surgeon , a news anchor and even a u.s. president . and ever the renaissance woman , the leggy blond doll has found a new calling : entrepreneur . entrepreneur barbie , which mattel unveiled at the american international toy fair in february , is available on amazon starting today , and will hit other retailers in august . mattel has teamed with eight female entrepreneurs to launch the tech-savvy doll , who comes equipped with a tablet , a smartphone and a laptop . case . well connected : entrepreneur barbie , part of mattel 's ` i can be ' line of __career-oriented__ dolls , comes with her own smartphone and tablet . barbie 's ` chief inspirational officers ' include girls who code founder __reshma__ __saujani__ , one kings lane founders susan feldman and alison __pincus__ , and rent the runway founders jennifer hyman and jenny __fleiss__ . ` unfortunately we live in a culture where girls are bombarded with images of male __coders__ and engineers that just do n't look like them , ' __saujani__ told wired . more ... fancy a slash of milk with that ? artist creates portraits of celebrities - using cornflakes . this gives a new meaning to face painting ! make-up artist who transforms herself into celebrities , including footballers from the world cup squad . ` when you ask a girl what a computer scientist is , she usually pictures a geeky guy typing away . and then we wonder why girls do n't pursue careers in tech ! we have to change popular culture and start showing more women , more cool , dynamic , creative women , in these roles . ' tools of the trade : entrepreneur barbie 's accessories include a tablet , smartphone and laptop case . the campaign 's participants offered career tips to young fans in a twitter discussion wednesday afternoon , using the hashtag __#barbiechat__ . barbie will also get her own linkedin page and a billboard in new york 's times square featuring the hashtag __#unapologetic__ . entrepreneur barbie is part of mattel 's ` i can be ' line of __career-oriented__ __barbies__ , which launched in 2010 in an effort to showcase . modern-day careers for women . ` she 's ready to take on anything that comes her way , ' mattel spokeswoman michelle __chidoni__ said earlier this year . think pink : each version of entrepreneur barbie sports a fuchsia frock . ` we always try to make career barbie . a reflection of the times , ' she added . ` women entrepreneurs are more prevalent now and they 're . growing in number . -lsb- it 's -rsb- a great way to encourage girls to also learn . about this role . ' it 's the first time in her __55-year__ . history that barbie has taken on the role of business owner , where women are ` living their dreams their own ways . ' __chidoni__ said mattel is also partnering with the girl scouts to create video stories of successful female entrepreneurs . barbie entrepreneur comes in four ethnicities and will retail for $ 12.99 , according to cnn .\n",
      "INFO:tensorflow:REFERENCE SUMMARY: the new barbie is available on amazon starting today , and will hit other retailers in august . eight female entrepreneurs teamed with mattel to serve as barbie 's ` chief inspirational officers '\n",
      "INFO:tensorflow:GENERATED SUMMARY: . . . . . . . . . . . . . . . . . . . . . . . . . . . . . . . . . . . . . . . . . . . . . . . . . . . . . . . . . . . . . . . . . . . . . . . . . . . . . . . . . . . . . . . . . . . . . . . . . . . . . . . . . . . . . . . . . . . . . . . .\n",
      "---------------------------------------------------------------------------\n",
      "INFO:tensorflow:Wrote visualization data to /home/ubuntu/W266/final_0/W266_Final/model_3/saved/decode/attn_vis_data.json\n"
     ]
    }
   ],
   "source": [
    "batches = tutil.get_decode_data(hps,vocab,hps.data_path,True)\n",
    "tf.reset_default_graph()\n",
    "model_params = dict(hps=hps, \n",
    "                    vocab=vocab)\n",
    "\n",
    "lm = SummarizationModel(**model_params)\n",
    "lm.BuildCoreGraph()\n",
    "lm.BuildSamplerGraph()\n",
    "lm.summarizeGraph()\n",
    "\n",
    "with lm.graph.as_default():\n",
    "    initializer = tf.global_variables_initializer()\n",
    "    saver = tf.train.Saver()\n",
    "\n",
    "with tf.Session(graph=lm.graph) as session:\n",
    "    decoder = BeamSearchDecoder(lm, session, vocab, hps, saver)\n",
    "    decoder.decodeOneSample(batches) \n",
    "\n"
   ]
  },
  {
   "cell_type": "code",
   "execution_count": null,
   "metadata": {},
   "outputs": [],
   "source": []
  }
 ],
 "metadata": {
  "kernelspec": {
   "display_name": "Environment (conda_tensorflow_p36)",
   "language": "python",
   "name": "conda_tensorflow_p36"
  },
  "language_info": {
   "codemirror_mode": {
    "name": "ipython",
    "version": 3
   },
   "file_extension": ".py",
   "mimetype": "text/x-python",
   "name": "python",
   "nbconvert_exporter": "python",
   "pygments_lexer": "ipython3",
   "version": "3.6.6"
  }
 },
 "nbformat": 4,
 "nbformat_minor": 2
}

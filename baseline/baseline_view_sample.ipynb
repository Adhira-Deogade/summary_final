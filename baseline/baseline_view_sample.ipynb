{
 "cells": [
  {
   "cell_type": "code",
   "execution_count": 1,
   "metadata": {},
   "outputs": [
    {
     "name": "stderr",
     "output_type": "stream",
     "text": [
      "/home/ubuntu/anaconda3/envs/tensorflow_p36/lib/python3.6/site-packages/h5py/__init__.py:36: FutureWarning: Conversion of the second argument of issubdtype from `float` to `np.floating` is deprecated. In future, it will be treated as `np.float64 == np.dtype(float).type`.\n",
      "  from ._conv import register_converters as _register_converters\n"
     ]
    }
   ],
   "source": [
    "import sys\n",
    "import time\n",
    "import os\n",
    "import tensorflow as tf\n",
    "import numpy as np\n",
    "\n",
    "from collections import namedtuple\n",
    "from tensorflow.python import debug as tf_debug\n",
    "from tensorflow.core.example import example_pb2\n",
    "from importlib import reload\n",
    "\n",
    "import json, os, re, shutil, sys, time\n",
    "import collections, itertools\n"
   ]
  },
  {
   "cell_type": "code",
   "execution_count": 2,
   "metadata": {},
   "outputs": [],
   "source": [
    "import glob\n",
    "import random\n",
    "import struct\n",
    "import csv\n",
    "import batch; reload(batch)\n",
    "import data; reload(data)\n",
    "import model; reload(model)\n",
    "\n",
    "from batch import Example,Batch\n",
    "from batcher import Batcher\n",
    "from data import Vocab\n",
    "from model import SummarizationModel\n",
    "from decode import BeamSearchDecoder\n",
    "import training_util as tutil\n",
    "\n"
   ]
  },
  {
   "cell_type": "code",
   "execution_count": 3,
   "metadata": {},
   "outputs": [],
   "source": [
    "def setup_decode_params():\n",
    "    hps_dict = {\n",
    "        'mode' : 'decode',\n",
    "        'single_pass' : True,\n",
    "        'log_root' : '/home/ubuntu/W266/final_0/W266_Final/model_3/saved',\n",
    "        'cp_dir':'train',\n",
    "        'hidden_dim' : 200,\n",
    "        'emb_dim' : 128,\n",
    "        'batch_size' : 4,     #<---------- Keep same as beam size\n",
    "        'max_enc_steps' : 400,\n",
    "        'max_dec_steps' : 1,        #<---------------Keep at 1\n",
    "        'beam_dec_steps' : 120, # Decode steps during beam search\n",
    "        'beam_size' : 4,\n",
    "        'min_dec_steps' : 35,\n",
    "        'vocab_size' : 50000,\n",
    "        'lr' : 0.15,\n",
    "        'adagrad_init_acc' : 0.1,\n",
    "        'rand_unif_init_mag' : 0.02,\n",
    "        'trunc_norm_init_std' : 1e-4,\n",
    "        'max_grad_norm' : 2.0,\n",
    "        'pointer_gen' : False,\n",
    "        'coverage' : False,\n",
    "        'cov_loss_wt' : 1.0,\n",
    "        'vocab_path' : '/home/ubuntu/W266/final_0/W266_Final/data/final_processed/vocab',\n",
    "        'data_path' : '/home/ubuntu/W266/final_0/W266_Final/data/final_chunked/validation_001*'\n",
    "    }\n",
    "    \n",
    "    hps = namedtuple(\"HParams\", hps_dict.keys())(**hps_dict)\n",
    "    return hps"
   ]
  },
  {
   "cell_type": "code",
   "execution_count": 4,
   "metadata": {},
   "outputs": [
    {
     "name": "stdout",
     "output_type": "stream",
     "text": [
      "Warning: incorrectly formatted line in vocabulary file: 0800 555 111 252\n",
      "\n",
      "\n",
      "Warning: incorrectly formatted line in vocabulary file: 1800 333 000 110\n",
      "\n",
      "\n",
      "Warning: incorrectly formatted line in vocabulary file: 2 1/2 76\n",
      "\n",
      "\n",
      "max_size of vocab was specified as 50000; we now have 50000 words. Stopping reading.\n",
      "Finished constructing vocabulary of 50000 total words. Last word added: 16:03\n"
     ]
    }
   ],
   "source": [
    "hps = setup_decode_params()\n",
    "vocab = Vocab(hps.vocab_path, hps.vocab_size)"
   ]
  },
  {
   "cell_type": "code",
   "execution_count": 5,
   "metadata": {},
   "outputs": [
    {
     "name": "stdout",
     "output_type": "stream",
     "text": [
      "INFO:tensorflow:Fetching data..\n",
      "INFO:tensorflow:Creating batches..\n",
      "INFO:tensorflow:[TOTAL Batches]  : 1\n",
      "INFO:tensorflow:[TOTAL Examples] : 1\n",
      "INFO:tensorflow:Creating batches..COMPLETE\n",
      "INFO:tensorflow:Building core graph...\n",
      "INFO:tensorflow:Adding attention_decoder timestep 0 of 1\n",
      "INFO:tensorflow:Building core graph...COMPLETE\n",
      "INFO:tensorflow:Building Sampler graph...\n",
      "INFO:tensorflow:Building Sampler graph...COMPLETE\n",
      "INFO:tensorflow:Loading checkpoint /home/ubuntu/W266/final_0/W266_Final/model_3/saved/train/model-37122\n",
      "INFO:tensorflow:Restoring parameters from /home/ubuntu/W266/final_0/W266_Final/model_3/saved/train/model-37122\n",
      "INFO:tensorflow:Added 0 to file\n",
      "======================================================================\n",
      "======================================================================\n",
      "ROUGE SCORES\n",
      "{'rouge-1': {'f': 0.21428570969387764, 'p': 0.3, 'r': 0.16666666666666666}, 'rouge-2': {'f': 0.0, 'p': 0.0, 'r': 0.0}, 'rouge-l': {'f': 0.18618266978926354, 'p': 0.3, 'r': 0.16666666666666666}}\n",
      "======================================================================\n",
      "======================================================================\n",
      "---------------------------------------------------------------------------\n",
      "INFO:tensorflow:ARTICLE:  by . hugo duncan economics correspondent . published : . __18:20__ est , 5 november 2013 . | . updated : . __18:22__ est , 5 november 2013 . bolstered : the surprisingly robust pace of recovery in recent months is a boost for george osborne . britain 's economy is growing at its fastest pace for 16 years , a report revealed yesterday . in a sign that the recovery is gathering pace , figures showed the dominant services sector had clocked up its best month since may 1997 . it came as a report in brussels predicted the uk would be the best performing major economy in europe in 2013 , 2014 and 2015 - outstripping even the mighty germany . the european commission said britain has ` exceeded expectations ' this year and added that ` the outlook is quite bright ' having ` improved substantially since the spring ' . combined with upbeat surveys on manufacturing and construction , the services sector figures fuelled speculation that the economy will expand by as much as 1.5 per cent in the final three months of the year . that would be nearly double the 0.8 per cent growth rate seen in the third quarter of 2013 and outstrip anything seen since the turn of the century . the surprisingly robust pace of recovery in recent months has bolstered hopes that the economy is finally on the mend in a boost for david cameron and george osborne . michael saunders , an economist at banking giant citigroup said : ` britain is booming ' . the strong growth could force the bank of england to raise interest rates sooner than expected in what would be a blow to millions of borrowers but relief to britain 's army of savers . rates have been pegged at 0.5 per cent since march 2009 and the bank has said there will be no increase until unemployment falls to 7 per cent or lower - something it said in august it did not expect until late 2016 . but it is due to publish far more optimistic forecasts next week in a sign that rates could rise sooner than previously thought . unemployment is currently 7.7 per cent . positive outlook : the european commission -lrb- pictured -rrb- in brussels said britain has ` exceeded expectations ' this year and added that ` the outlook is quite bright ' having ` improved substantially since the spring ' george buckley , uk economist at deutsche bank , said : ` the bank could well be swayed into bringing forward the point in time that the unemployment rate hits the 7 per cent threshold . we forecast unemployment to fall to 7 per cent by __end-2015__ at which point we expect a rate rise . ' financial research group __markit__ yesterday said its index of activity in the services sector - which accounts for more than three quarters of uk output - rose from __60.3__ in september to __62.5__ in october . that was the strongest reading since may 1997 , the month when tony blair became prime minister , and well above the 50 mark that separates growth from decline . __markit__ said that combined with strong reports on manufacturing and construction , october was the best month for the uk economy since the start of 1998 . push : the strong growth could force the bank of england -lrb- pictured -rrb- to raise interest rates sooner than expected in what would be a blow to millions of borrowers but relief to britain 's army of savers . david noble , chief executive at the chartered institute of purchasing and supply , which compiles the report with __markit__ , hailed ` a sparkling start ' to the fourth quarter of the year . chris williamson , chief economist at __markit__ , said it put the uk on course for growth of 1.3 per cent in the final three months of 2013 . but others were even more upbeat , with forecasting group capital economics and european banking giant ing predicting growth of as much as 1.5 per cent between october and december . the ec predicted growth of 1.3 per cent in the uk this year followed by 2.2 per cent in 2014 and 2.4 per cent in 2015 - outstripping germany , france , italy and spain , the four biggest economies in the eurozone .\n",
      "INFO:tensorflow:REFERENCE SUMMARY: britain 's economy is growing at its fastest pace for 16 years , report reveals . dominant services sector has clocked up its best month since may 1997 . european commission says uk has ` exceeded expectations ' this year .\n",
      "INFO:tensorflow:GENERATED SUMMARY: pm says it will be a ` [UNK] ' and ` [UNK] ' in the uk . it is expected to be the first time in the uk , but it will be the first time .\n",
      "---------------------------------------------------------------------------\n",
      "INFO:tensorflow:Wrote visualization data to /home/ubuntu/W266/final_0/W266_Final/model_3/saved/decode/attn_vis_data.json\n"
     ]
    }
   ],
   "source": [
    "batches = tutil.get_decode_data(hps,vocab,hps.data_path,True)\n",
    "tf.reset_default_graph()\n",
    "model_params = dict(hps=hps, \n",
    "                    vocab=vocab)\n",
    "\n",
    "lm = SummarizationModel(**model_params)\n",
    "lm.BuildCoreGraph()\n",
    "lm.BuildSamplerGraph()\n",
    "lm.summarizeGraph()\n",
    "\n",
    "with lm.graph.as_default():\n",
    "    initializer = tf.global_variables_initializer()\n",
    "    saver = tf.train.Saver()\n",
    "\n",
    "with tf.Session(graph=lm.graph) as session:\n",
    "    decoder = BeamSearchDecoder(lm, session, vocab, hps, saver)\n",
    "    decoder.decodeOneSample(batches) \n",
    "\n"
   ]
  },
  {
   "cell_type": "code",
   "execution_count": null,
   "metadata": {},
   "outputs": [],
   "source": []
  }
 ],
 "metadata": {
  "kernelspec": {
   "display_name": "Environment (conda_tensorflow_p36)",
   "language": "python",
   "name": "conda_tensorflow_p36"
  },
  "language_info": {
   "codemirror_mode": {
    "name": "ipython",
    "version": 3
   },
   "file_extension": ".py",
   "mimetype": "text/x-python",
   "name": "python",
   "nbconvert_exporter": "python",
   "pygments_lexer": "ipython3",
   "version": "3.6.6"
  }
 },
 "nbformat": 4,
 "nbformat_minor": 2
}

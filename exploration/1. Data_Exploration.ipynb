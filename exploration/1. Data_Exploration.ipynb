{
 "cells": [
  {
   "cell_type": "markdown",
   "metadata": {},
   "source": [
    "# Data Exploration"
   ]
  },
  {
   "cell_type": "code",
   "execution_count": 1,
   "metadata": {},
   "outputs": [],
   "source": [
    "import os, os.path\n",
    "import subprocess\n",
    "from stanfordcorenlp import StanfordCoreNLP\n",
    "\n",
    "nlp = StanfordCoreNLP(r'/home/ubuntu/stanford-corenlp-full-2018-02-27')"
   ]
  },
  {
   "cell_type": "markdown",
   "metadata": {},
   "source": [
    "## Test Stanford NLP"
   ]
  },
  {
   "cell_type": "markdown",
   "metadata": {},
   "source": [
    "ref: https://github.com/Lynten/stanford-corenlp"
   ]
  },
  {
   "cell_type": "code",
   "execution_count": 2,
   "metadata": {},
   "outputs": [
    {
     "name": "stdout",
     "output_type": "stream",
     "text": [
      "Tokenize: ['Guangdong', 'University', 'of', 'Foreign', 'Studies', 'is', 'located', 'in', 'Guangzhou', '.']\n",
      "Part of Speech: [('Guangdong', 'NNP'), ('University', 'NNP'), ('of', 'IN'), ('Foreign', 'NNP'), ('Studies', 'NNPS'), ('is', 'VBZ'), ('located', 'JJ'), ('in', 'IN'), ('Guangzhou', 'NNP'), ('.', '.')]\n"
     ]
    }
   ],
   "source": [
    "try:\n",
    "    sentence = 'Guangdong University of Foreign Studies is located in Guangzhou.'\n",
    "    print('Tokenize:', nlp.word_tokenize(sentence))\n",
    "    print('Part of Speech:', nlp.pos_tag(sentence))\n",
    "    #print('Named Entities:', nlp.ner(sentence))\n",
    "    #print('Constituency Parsing:', nlp.parse(sentence))\n",
    "    #print('Dependency Parsing:', nlp.dependency_parse(sentence))\n",
    "except Exception as e:\n",
    "    print(e)\n",
    "finally:    \n",
    "    nlp.close()"
   ]
  },
  {
   "cell_type": "markdown",
   "metadata": {},
   "source": [
    "## Function definitions"
   ]
  },
  {
   "cell_type": "code",
   "execution_count": 3,
   "metadata": {},
   "outputs": [],
   "source": [
    "def get_file_count(DIR):\n",
    "    return len(os.listdir(DIR))\n",
    "\n",
    "\n",
    "def read_story(text_file):\n",
    "    lines = []\n",
    "    with open(text_file, \"r\") as f:\n",
    "        for line in f:\n",
    "            lines.append(line.strip())\n",
    "    return lines\n",
    "\n",
    "\n",
    "def split(lines):\n",
    "    article_lines = []\n",
    "    highlights = []\n",
    "    next_is_highlight = False\n",
    "    for idx,line in enumerate(lines):\n",
    "        if line == \"\":\n",
    "            continue \n",
    "        elif line.startswith(\"@highlight\"):\n",
    "            next_is_highlight = True\n",
    "        elif next_is_highlight:\n",
    "            highlights.append(line)\n",
    "        else:\n",
    "            article_lines.append(line)\n",
    "    return article_lines,highlights        \n",
    "\n",
    "\n",
    "dm_single_close_quote = u'\\u2019' # unicode\n",
    "dm_double_close_quote = u'\\u201d'\n",
    "END_TOKENS = ['.', '!', '?', '...', \"'\", \"`\", '\"', dm_single_close_quote, dm_double_close_quote, \")\"] # acceptable ways to end a sentence\n",
    "SENTENCE_START = '<s>'\n",
    "SENTENCE_END = '</s>'\n",
    "\n",
    "\n",
    "def fix_missing_period(line):\n",
    "    if \"@highlight\" in line: return line\n",
    "    if line==\"\": return line\n",
    "    if line[-1] in END_TOKENS: return line\n",
    "    return line + \" .\"\n",
    "\n",
    "def create_paragraphs(story):\n",
    "    story = [line.lower() for line in story]\n",
    "    story = [fix_missing_period(line) for line in story]\n",
    "    article_lines,highlights = split(story)\n",
    "    article = ' '.join(article_lines)\n",
    "    abstract = ' '.join([\"%s %s %s\" % (SENTENCE_START, sent, SENTENCE_END) for sent in highlights])\n",
    "    return article, abstract    "
   ]
  },
  {
   "cell_type": "markdown",
   "metadata": {},
   "source": [
    "## Data summary"
   ]
  },
  {
   "cell_type": "markdown",
   "metadata": {},
   "source": [
    "Ref: https://cs.nyu.edu/%7Ekcho/DMQA/"
   ]
  },
  {
   "cell_type": "code",
   "execution_count": 4,
   "metadata": {},
   "outputs": [
    {
     "name": "stdout",
     "output_type": "stream",
     "text": [
      "92579\n"
     ]
    }
   ],
   "source": [
    "cnn_dir = './data/cnn/stories/'\n",
    "print(get_file_count(cnn_dir))"
   ]
  },
  {
   "cell_type": "code",
   "execution_count": 5,
   "metadata": {},
   "outputs": [
    {
     "name": "stdout",
     "output_type": "stream",
     "text": [
      "219506\n"
     ]
    }
   ],
   "source": [
    "dm_dir = './data/dailymail/stories'\n",
    "print(get_file_count(dm_dir))"
   ]
  },
  {
   "cell_type": "markdown",
   "metadata": {},
   "source": [
    "## Explore CNN Data"
   ]
  },
  {
   "cell_type": "code",
   "execution_count": 6,
   "metadata": {},
   "outputs": [],
   "source": [
    "cnn_story_1 = './data/cnn/stories/166fe0c3d3f400a48ec5fd716c675384512f152c.story'"
   ]
  },
  {
   "cell_type": "code",
   "execution_count": 7,
   "metadata": {},
   "outputs": [
    {
     "data": {
      "text/plain": [
       "['HAVANA, Cuba (CNN) -- Cuban President Raul Castro is taking over leadership of a country whose government believes its citizens are not working hard enough.',\n",
       " '',\n",
       " \"Raul Castro was chosen Sunday to take over Cuba's presidency from his brother, Fidel Castro.\",\n",
       " '',\n",
       " 'The state-run newspaper recently ran an article headlined \"Work: Option or necessity?\"',\n",
       " '',\n",
       " \"The writer pointed out that, judging by the number of people in the streets during the day, many Cubans don't seem to be on the job.\",\n",
       " '',\n",
       " \"They have few motivations to buckle down: Salaries average about $15 per month on the island, and Cubans get monthly food rations even if they don't work.  Watch a report on the realities in Cuba »\",\n",
       " '',\n",
       " '\"There is a strong desire to protect and to gradually increase the incomes and savings of the population, particularly of those least favored,\" said Raul Castro, 76.',\n",
       " '',\n",
       " 'The black market is so widespread that Cubans have coined a special term for breaking the law to make ends meet: \"resolver\" -- literally, \"to resolve.\"  See Cuba through I-Reporters\\' eyes »',\n",
       " '',\n",
       " 'The new president, who took the reins of power Sunday from his ailing brother, Fidel, 81, has said the country must become more productive.',\n",
       " '',\n",
       " '\"The country\\'s priority will be to meet the basic needs of the population, both material and spiritual, based on the sustained strengthening of the national economy and its productive basis without which, I\\'ll say it again, development would be impossible,\" Raul Castro said in a speech Sunday.',\n",
       " '',\n",
       " 'Cubans, too, are calling for reforms, though not all of them related to productivity.',\n",
       " '',\n",
       " 'In a recent video that has made the rounds on the Internet, a student poses tough questions to the president of Cuba\\'s National Assembly, asking why Cubans cannot travel freely to resorts -- a practice derided by critics as \"tourist apartheid.\"',\n",
       " '',\n",
       " 'Though such a public display of discontent is rare, the video echoed sentiments often voiced in private for years, particularly since the fall of the Soviet empire in 1991 and, with it, the loss of billions of dollars in subsidies.',\n",
       " '',\n",
       " \"Cuban officials counter that Cubans are not granted access to the nation's most luxurious spots because they do not have the foreign exchange brought by the tourists and needed to run the country's social programs, such as free health care and education.\",\n",
       " '',\n",
       " 'With a new president steering the island nation for the first time in 49 years, some Cubans have allowed their expectations to rise.',\n",
       " '',\n",
       " '\"I think those expectations are really very large indeed and it\\'ll be the Achilles heel, potentially, of this new government if it doesn\\'t attack them with some vigor,\" said Hal Klepak, a professor of history and warfare studies at the Royal Military College of Canada in Kingston, Ontario.',\n",
       " '',\n",
       " 'Indeed, Castro has promised to move within a few weeks to improve efficiency by cutting some of the red tape that can frustrate the most fervent of revolutionaries.',\n",
       " '',\n",
       " \"But Wayne S. Smith, a senior fellow at the Center for International Policy in Washington and chief of the U.S. Interests Section in Havana from 1979 to 1982, predicted Sunday in an editorial in the Atlanta Journal-Constitution that Raul Castro will not break strongly from his brother's policies.\",\n",
       " '',\n",
       " '\"Rather, we will see a peaceful transition and the existing system remain largely intact,\" Smith predicted.',\n",
       " '',\n",
       " 'Still, changes are inevitable, he said. \"Raul Castro has called for a nationwide debate on the country\\'s economic future and for Cubans to propose reforms in group discussions.',\n",
       " '',\n",
       " '\"He has also called for new proposals to raise productivity, including discussion of more private ownership of land. The Cuban people want change, want reforms that will bring about a better way of life.\"',\n",
       " '',\n",
       " 'Smith credited the younger Castro\\'s leadership over the past 1½ years, while serving as acting president, with having already resulted in \"a greater openness, and open criticism of certain government programs.\"',\n",
       " '',\n",
       " 'But the degree of change remains uncertain, as does the possibility that \"even from the shadow Fidel will try to discourage reforms,\" he said, adding \"the prognosis, nonetheless, is hopeful.\"  See a timeline of Castro\\'s rise to power »',\n",
       " '',\n",
       " \"The U.S. government's former man in Havana recommended current politicians exert pressure on the island with a light touch.\",\n",
       " '',\n",
       " '\"We could accomplish far more by reducing tensions and beginning a meaningful dialogue,\" he said. \"Raul Castro has several times suggested such a dialogue. Why not take him up on it? We have disagreements, yes, but how do we resolve them without talking?\" E-mail to a friend',\n",
       " '',\n",
       " \"CNN's Morgan Neill contributed to this story.\",\n",
       " '',\n",
       " '@highlight',\n",
       " '',\n",
       " 'Cuban President Raul Castro says the country must become more productive',\n",
       " '',\n",
       " '@highlight',\n",
       " '',\n",
       " 'Castro has promised to improve efficiency by cutting some red tape',\n",
       " '',\n",
       " '@highlight',\n",
       " '',\n",
       " 'Expectations rise as a new president leads Cuba for the first time in 49 years',\n",
       " '',\n",
       " '@highlight',\n",
       " '',\n",
       " 'Rare public displays of discontent show frustrations faced by Cubans']"
      ]
     },
     "execution_count": 7,
     "metadata": {},
     "output_type": "execute_result"
    }
   ],
   "source": [
    "out = read_story(cnn_story_1)\n",
    "out"
   ]
  },
  {
   "cell_type": "markdown",
   "metadata": {},
   "source": [
    "## Seperate summary and article"
   ]
  },
  {
   "cell_type": "code",
   "execution_count": 8,
   "metadata": {},
   "outputs": [],
   "source": [
    "article_lines,highlights = split(out)"
   ]
  },
  {
   "cell_type": "code",
   "execution_count": 9,
   "metadata": {},
   "outputs": [
    {
     "data": {
      "text/plain": [
       "['HAVANA, Cuba (CNN) -- Cuban President Raul Castro is taking over leadership of a country whose government believes its citizens are not working hard enough.',\n",
       " \"Raul Castro was chosen Sunday to take over Cuba's presidency from his brother, Fidel Castro.\",\n",
       " 'The state-run newspaper recently ran an article headlined \"Work: Option or necessity?\"',\n",
       " \"The writer pointed out that, judging by the number of people in the streets during the day, many Cubans don't seem to be on the job.\",\n",
       " \"They have few motivations to buckle down: Salaries average about $15 per month on the island, and Cubans get monthly food rations even if they don't work.  Watch a report on the realities in Cuba »\",\n",
       " '\"There is a strong desire to protect and to gradually increase the incomes and savings of the population, particularly of those least favored,\" said Raul Castro, 76.',\n",
       " 'The black market is so widespread that Cubans have coined a special term for breaking the law to make ends meet: \"resolver\" -- literally, \"to resolve.\"  See Cuba through I-Reporters\\' eyes »',\n",
       " 'The new president, who took the reins of power Sunday from his ailing brother, Fidel, 81, has said the country must become more productive.',\n",
       " '\"The country\\'s priority will be to meet the basic needs of the population, both material and spiritual, based on the sustained strengthening of the national economy and its productive basis without which, I\\'ll say it again, development would be impossible,\" Raul Castro said in a speech Sunday.',\n",
       " 'Cubans, too, are calling for reforms, though not all of them related to productivity.',\n",
       " 'In a recent video that has made the rounds on the Internet, a student poses tough questions to the president of Cuba\\'s National Assembly, asking why Cubans cannot travel freely to resorts -- a practice derided by critics as \"tourist apartheid.\"',\n",
       " 'Though such a public display of discontent is rare, the video echoed sentiments often voiced in private for years, particularly since the fall of the Soviet empire in 1991 and, with it, the loss of billions of dollars in subsidies.',\n",
       " \"Cuban officials counter that Cubans are not granted access to the nation's most luxurious spots because they do not have the foreign exchange brought by the tourists and needed to run the country's social programs, such as free health care and education.\",\n",
       " 'With a new president steering the island nation for the first time in 49 years, some Cubans have allowed their expectations to rise.',\n",
       " '\"I think those expectations are really very large indeed and it\\'ll be the Achilles heel, potentially, of this new government if it doesn\\'t attack them with some vigor,\" said Hal Klepak, a professor of history and warfare studies at the Royal Military College of Canada in Kingston, Ontario.',\n",
       " 'Indeed, Castro has promised to move within a few weeks to improve efficiency by cutting some of the red tape that can frustrate the most fervent of revolutionaries.',\n",
       " \"But Wayne S. Smith, a senior fellow at the Center for International Policy in Washington and chief of the U.S. Interests Section in Havana from 1979 to 1982, predicted Sunday in an editorial in the Atlanta Journal-Constitution that Raul Castro will not break strongly from his brother's policies.\",\n",
       " '\"Rather, we will see a peaceful transition and the existing system remain largely intact,\" Smith predicted.',\n",
       " 'Still, changes are inevitable, he said. \"Raul Castro has called for a nationwide debate on the country\\'s economic future and for Cubans to propose reforms in group discussions.',\n",
       " '\"He has also called for new proposals to raise productivity, including discussion of more private ownership of land. The Cuban people want change, want reforms that will bring about a better way of life.\"',\n",
       " 'Smith credited the younger Castro\\'s leadership over the past 1½ years, while serving as acting president, with having already resulted in \"a greater openness, and open criticism of certain government programs.\"',\n",
       " 'But the degree of change remains uncertain, as does the possibility that \"even from the shadow Fidel will try to discourage reforms,\" he said, adding \"the prognosis, nonetheless, is hopeful.\"  See a timeline of Castro\\'s rise to power »',\n",
       " \"The U.S. government's former man in Havana recommended current politicians exert pressure on the island with a light touch.\",\n",
       " '\"We could accomplish far more by reducing tensions and beginning a meaningful dialogue,\" he said. \"Raul Castro has several times suggested such a dialogue. Why not take him up on it? We have disagreements, yes, but how do we resolve them without talking?\" E-mail to a friend',\n",
       " \"CNN's Morgan Neill contributed to this story.\"]"
      ]
     },
     "execution_count": 9,
     "metadata": {},
     "output_type": "execute_result"
    }
   ],
   "source": [
    "article_lines"
   ]
  },
  {
   "cell_type": "code",
   "execution_count": 10,
   "metadata": {},
   "outputs": [
    {
     "data": {
      "text/plain": [
       "['Cuban President Raul Castro says the country must become more productive',\n",
       " 'Castro has promised to improve efficiency by cutting some red tape',\n",
       " 'Expectations rise as a new president leads Cuba for the first time in 49 years',\n",
       " 'Rare public displays of discontent show frustrations faced by Cubans']"
      ]
     },
     "execution_count": 10,
     "metadata": {},
     "output_type": "execute_result"
    }
   ],
   "source": [
    "highlights"
   ]
  },
  {
   "cell_type": "markdown",
   "metadata": {},
   "source": [
    "## Join Lines to form paragraphs"
   ]
  },
  {
   "cell_type": "code",
   "execution_count": 11,
   "metadata": {},
   "outputs": [],
   "source": [
    "article,summary = create_paragraphs(out)"
   ]
  },
  {
   "cell_type": "code",
   "execution_count": 12,
   "metadata": {},
   "outputs": [
    {
     "data": {
      "text/plain": [
       "'havana, cuba (cnn) -- cuban president raul castro is taking over leadership of a country whose government believes its citizens are not working hard enough. raul castro was chosen sunday to take over cuba\\'s presidency from his brother, fidel castro. the state-run newspaper recently ran an article headlined \"work: option or necessity?\" the writer pointed out that, judging by the number of people in the streets during the day, many cubans don\\'t seem to be on the job. they have few motivations to buckle down: salaries average about $15 per month on the island, and cubans get monthly food rations even if they don\\'t work.  watch a report on the realities in cuba » . \"there is a strong desire to protect and to gradually increase the incomes and savings of the population, particularly of those least favored,\" said raul castro, 76. the black market is so widespread that cubans have coined a special term for breaking the law to make ends meet: \"resolver\" -- literally, \"to resolve.\"  see cuba through i-reporters\\' eyes » . the new president, who took the reins of power sunday from his ailing brother, fidel, 81, has said the country must become more productive. \"the country\\'s priority will be to meet the basic needs of the population, both material and spiritual, based on the sustained strengthening of the national economy and its productive basis without which, i\\'ll say it again, development would be impossible,\" raul castro said in a speech sunday. cubans, too, are calling for reforms, though not all of them related to productivity. in a recent video that has made the rounds on the internet, a student poses tough questions to the president of cuba\\'s national assembly, asking why cubans cannot travel freely to resorts -- a practice derided by critics as \"tourist apartheid.\" though such a public display of discontent is rare, the video echoed sentiments often voiced in private for years, particularly since the fall of the soviet empire in 1991 and, with it, the loss of billions of dollars in subsidies. cuban officials counter that cubans are not granted access to the nation\\'s most luxurious spots because they do not have the foreign exchange brought by the tourists and needed to run the country\\'s social programs, such as free health care and education. with a new president steering the island nation for the first time in 49 years, some cubans have allowed their expectations to rise. \"i think those expectations are really very large indeed and it\\'ll be the achilles heel, potentially, of this new government if it doesn\\'t attack them with some vigor,\" said hal klepak, a professor of history and warfare studies at the royal military college of canada in kingston, ontario. indeed, castro has promised to move within a few weeks to improve efficiency by cutting some of the red tape that can frustrate the most fervent of revolutionaries. but wayne s. smith, a senior fellow at the center for international policy in washington and chief of the u.s. interests section in havana from 1979 to 1982, predicted sunday in an editorial in the atlanta journal-constitution that raul castro will not break strongly from his brother\\'s policies. \"rather, we will see a peaceful transition and the existing system remain largely intact,\" smith predicted. still, changes are inevitable, he said. \"raul castro has called for a nationwide debate on the country\\'s economic future and for cubans to propose reforms in group discussions. \"he has also called for new proposals to raise productivity, including discussion of more private ownership of land. the cuban people want change, want reforms that will bring about a better way of life.\" smith credited the younger castro\\'s leadership over the past 1½ years, while serving as acting president, with having already resulted in \"a greater openness, and open criticism of certain government programs.\" but the degree of change remains uncertain, as does the possibility that \"even from the shadow fidel will try to discourage reforms,\" he said, adding \"the prognosis, nonetheless, is hopeful.\"  see a timeline of castro\\'s rise to power » . the u.s. government\\'s former man in havana recommended current politicians exert pressure on the island with a light touch. \"we could accomplish far more by reducing tensions and beginning a meaningful dialogue,\" he said. \"raul castro has several times suggested such a dialogue. why not take him up on it? we have disagreements, yes, but how do we resolve them without talking?\" e-mail to a friend . cnn\\'s morgan neill contributed to this story.'"
      ]
     },
     "execution_count": 12,
     "metadata": {},
     "output_type": "execute_result"
    }
   ],
   "source": [
    "article"
   ]
  },
  {
   "cell_type": "code",
   "execution_count": 13,
   "metadata": {},
   "outputs": [
    {
     "data": {
      "text/plain": [
       "'<s> cuban president raul castro says the country must become more productive . </s> <s> castro has promised to improve efficiency by cutting some red tape . </s> <s> expectations rise as a new president leads cuba for the first time in 49 years . </s> <s> rare public displays of discontent show frustrations faced by cubans . </s>'"
      ]
     },
     "execution_count": 13,
     "metadata": {},
     "output_type": "execute_result"
    }
   ],
   "source": [
    "summary"
   ]
  },
  {
   "cell_type": "markdown",
   "metadata": {},
   "source": [
    "## Dailymail Data"
   ]
  },
  {
   "cell_type": "code",
   "execution_count": 14,
   "metadata": {},
   "outputs": [],
   "source": [
    "dm_story_1 = './data/dailymail/stories/ffffd563a96104f5cf4493cfa701a65f31b06abf.story'\n",
    "story = read_story(dm_story_1)\n",
    "article,summary = create_paragraphs(story)"
   ]
  },
  {
   "cell_type": "code",
   "execution_count": 15,
   "metadata": {},
   "outputs": [
    {
     "data": {
      "text/plain": [
       "\"under fire australian defence minister david johnston has stopped short of apologising or withdrawing his controversial 'wouldn't trust them to build a canoe' comments against australian submarine corporation (asc), saying on wednesday that he regrets his 'rhetorical flourish'. amid calls for his sacking, mr johnston told the senate that he never intended to cause offence. 'regrettably, in rhetorical flourish, i did express my frustrations in the past performance of asc,' he said. scroll down for video . 'regrettably, in rhetorical flourish, i did express my frustrations in the past performance of asc,' defence minister david johnston said of his 'canoe' comments against an australian submarine company . under fire. senator johnston has not withdrawn his comments but regretted his rhetorical flourish in which he claimed he would not trust asc to even 'build a canoe' there are fears the naval build program, worth more than $40 billion, could be lost to south australia, with claims that japanese built subs are on the government's radar . prime minister tony abbott appears at odds with his defence minister, throwing his support behind the submarine builder, saying the asc played a vital role in supporting the australian navy . 'i, of course, was directing my remarks at a legacy of issues and not the workers in asc whom i consider to be world class.' with fears the $40 billion plus program will be lost to south australia in favour of submarines built overseas, opposition leader bill shorten moved a censure motion against the defence minister in parliament, which was defeated but called on the prime minister to remove senator johnston from cabinet. mr abbott appeared to cut his minister loose by throwing his support behind the australian submarine makers. he said the asc played a vital role in supporting the navy. 'whilst asc has had challenges meeting the government's cost and schedule expectations of the air warfare destroyer program, we are working closely with asc on a reform strategy to improve shipyard performance and productivity,' the prime minister said in a statement on wednesday. 'it is early days, but the government is confident that asc and its partners will successfully turn the corner on this important build.' he said asc had transformed its submarine maintenance program over the past year and exceeded navy-set targets. there are growing fears that australia's next fleet of submarines will not be produced locally . opposition leader bill shorten moved a censure motion against the defence minister in parliament, which was defeated but called on the prime minister to remove senator johnston from cabinet . the defence minister david johnston had earlier sparked a furore, telling parliament that the government-owned shipbuilder was $350 million over budget on a project to construct three air warfare destroyers for the navy. 'you wonder why i wouldn't trust them to build a canoe,' he said. the heated exchange came amid debate about whether the government will honour a promise to build a dozen new submarines in australia, or buy them from overseas. labor senate leader penny wong accused the minister of trashing the reputation of the submarine corporation. 'this is a defence minister who is ... happy to undermine confidence in australia's naval capability. he is a disgrace,' she said. 'this is a man who has insulted thousands of hard working australians.' senator wong added that she had serious doubts over whether senator johnston would treat an australian bid to build new submarines fairly. under pressure internally and externally, mr johnston has tried to qualify his comments: 'i, of course was directing my remarks at a legacy of issues and not the workers in asc whom i consider to be world class.' senator johnston said successive governments have faced frustrations in establishing a world class submarine capability. under pressure internally and externally, mr johnston has tried to qualify his comments: 'i, of course was directing my remarks at a legacy of issues and not the workers in asc whom i consider to be world class.' there have been claims that the federal government was considering the purchase of up to 12 off-the-shelf stealth submarines . from japan. responding to questions in the australian senate on tuesday, . david johnston highlighted cost over-runs on other projects and . a lack of experience in submarine design at asc. 'you wonder why i am worried about asc and what they are . delivering to the australian taxpayer. do you wonder why i . wouldn't trust them to build a canoe?' he said. 'let's get real here ... this is a professional program that is about national security, and we will take the advice of . the service chiefs, not somebody who is looking for a job.' shadow treasurer chris bowen said senator johnston's cabinet position was approaching untenable after his 'ill-tempered and ill-judged tirade'. south australian independent senator nick xenophon also took a swipe at the defence minister, insisting his comments were 'bizarre, ridiculous, unfounded and stupid'.\""
      ]
     },
     "execution_count": 15,
     "metadata": {},
     "output_type": "execute_result"
    }
   ],
   "source": [
    "article"
   ]
  },
  {
   "cell_type": "code",
   "execution_count": 16,
   "metadata": {},
   "outputs": [
    {
     "data": {
      "text/plain": [
       "\"<s> defence minister david johnston said his 'i wouldn't trust them to build a canoe' outburst against australian submarine corporation (asc) was a 'rhetorical flourish' </s> <s> prime minister abbott effectively cut loose his minister, defending the asc and claiming it played a vital role in supporting the navy . </s> <s> opposition leader bill shorten has called for mr johnston's sacking . </s> <s> there are fears the $40 billion program will be taken away from south australia and submarines bought from overseas . </s>\""
      ]
     },
     "execution_count": 16,
     "metadata": {},
     "output_type": "execute_result"
    }
   ],
   "source": [
    "summary"
   ]
  },
  {
   "cell_type": "code",
   "execution_count": null,
   "metadata": {},
   "outputs": [],
   "source": []
  }
 ],
 "metadata": {
  "kernelspec": {
   "display_name": "Environment (conda_tensorflow_p36)",
   "language": "python",
   "name": "conda_tensorflow_p36"
  },
  "language_info": {
   "codemirror_mode": {
    "name": "ipython",
    "version": 3
   },
   "file_extension": ".py",
   "mimetype": "text/x-python",
   "name": "python",
   "nbconvert_exporter": "python",
   "pygments_lexer": "ipython3",
   "version": "3.6.6"
  }
 },
 "nbformat": 4,
 "nbformat_minor": 2
}

{
 "cells": [
  {
   "cell_type": "code",
   "execution_count": 1,
   "metadata": {},
   "outputs": [
    {
     "name": "stderr",
     "output_type": "stream",
     "text": [
      "/home/ubuntu/anaconda3/envs/tensorflow_p36/lib/python3.6/site-packages/h5py/__init__.py:36: FutureWarning: Conversion of the second argument of issubdtype from `float` to `np.floating` is deprecated. In future, it will be treated as `np.float64 == np.dtype(float).type`.\n",
      "  from ._conv import register_converters as _register_converters\n"
     ]
    }
   ],
   "source": [
    "import sys\n",
    "import time\n",
    "import os\n",
    "import tensorflow as tf\n",
    "import numpy as np\n",
    "\n",
    "from collections import namedtuple\n",
    "from tensorflow.python import debug as tf_debug\n",
    "from tensorflow.core.example import example_pb2\n",
    "from importlib import reload\n",
    "\n",
    "import json, os, re, shutil, sys, time\n",
    "import collections, itertools\n"
   ]
  },
  {
   "cell_type": "code",
   "execution_count": 2,
   "metadata": {},
   "outputs": [],
   "source": [
    "import glob\n",
    "import random\n",
    "import struct\n",
    "import csv\n",
    "import batch; reload(batch)\n",
    "import data; reload(data)\n",
    "import model; reload(model)\n",
    "\n",
    "from batch import Example,Batch\n",
    "from batcher import Batcher\n",
    "from data import Vocab\n",
    "from model import SummarizationModel\n",
    "from decode import BeamSearchDecoder\n",
    "import training_util as tutil\n",
    "\n"
   ]
  },
  {
   "cell_type": "code",
   "execution_count": 3,
   "metadata": {},
   "outputs": [],
   "source": [
    "def setup_decode_params():\n",
    "    hps_dict = {\n",
    "        'mode' : 'decode',\n",
    "        'single_pass' : True,\n",
    "        'log_root' : '/home/ubuntu/W266/final_0/W266_Final/model_4/saved',\n",
    "        'cp_dir':'train',\n",
    "        'hidden_dim' : 256,\n",
    "        'emb_dim' : 128,\n",
    "        'batch_size' : 4,     #<---------- Keep same as beam size\n",
    "        'max_enc_steps' : 400,\n",
    "        'max_dec_steps' : 1,        #<---------------Keep at 1\n",
    "        'beam_dec_steps' : 120, # Decode steps during beam search\n",
    "        'beam_size' : 4,\n",
    "        'min_dec_steps' : 35,\n",
    "        'vocab_size' : 50000,\n",
    "        'lr' : 0.15,\n",
    "        'adagrad_init_acc' : 0.1,\n",
    "        'rand_unif_init_mag' : 0.02,\n",
    "        'trunc_norm_init_std' : 1e-4,\n",
    "        'max_grad_norm' : 2.0,\n",
    "        'pointer_gen' : True,\n",
    "        'coverage' : True,\n",
    "        'cov_loss_wt' : 1.0,\n",
    "        'vocab_path' : '/home/ubuntu/W266/final_0/W266_Final/data/final_processed/vocab',\n",
    "        'data_path' : '/home/ubuntu/W266/final_0/W266_Final/data/final_chunked/validation_001*'\n",
    "    }\n",
    "    \n",
    "    hps = namedtuple(\"HParams\", hps_dict.keys())(**hps_dict)\n",
    "    return hps"
   ]
  },
  {
   "cell_type": "code",
   "execution_count": 4,
   "metadata": {},
   "outputs": [
    {
     "name": "stdout",
     "output_type": "stream",
     "text": [
      "Warning: incorrectly formatted line in vocabulary file: 0800 555 111 252\n",
      "\n",
      "\n",
      "Warning: incorrectly formatted line in vocabulary file: 1800 333 000 110\n",
      "\n",
      "\n",
      "Warning: incorrectly formatted line in vocabulary file: 2 1/2 76\n",
      "\n",
      "\n",
      "max_size of vocab was specified as 50000; we now have 50000 words. Stopping reading.\n",
      "Finished constructing vocabulary of 50000 total words. Last word added: 16:03\n"
     ]
    }
   ],
   "source": [
    "hps = setup_decode_params()\n",
    "vocab = Vocab(hps.vocab_path, hps.vocab_size)"
   ]
  },
  {
   "cell_type": "code",
   "execution_count": 6,
   "metadata": {},
   "outputs": [
    {
     "name": "stdout",
     "output_type": "stream",
     "text": [
      "INFO:tensorflow:Fetching data..\n",
      "INFO:tensorflow:Creating batches..\n",
      "INFO:tensorflow:[TOTAL Batches]  : 1\n",
      "INFO:tensorflow:[TOTAL Examples] : 1\n",
      "INFO:tensorflow:Creating batches..COMPLETE\n",
      "INFO:tensorflow:Building core graph...\n",
      "INFO:tensorflow:Adding attention_decoder timestep 0 of 1\n",
      "INFO:tensorflow:Building projection graph...\n",
      "INFO:tensorflow:Building projection graph...COMPLETE\n",
      "INFO:tensorflow:Building core graph...COMPLETE\n",
      "INFO:tensorflow:Building Sampler graph...\n",
      "INFO:tensorflow:Building Sampler graph...COMPLETE\n",
      "INFO:tensorflow:Building summary graph...\n",
      "INFO:tensorflow:Building summary graph...COMPLETE\n",
      "INFO:tensorflow:Loading checkpoint /home/ubuntu/W266/final_0/W266_Final/model_4/saved/train/model-63008\n",
      "INFO:tensorflow:Restoring parameters from /home/ubuntu/W266/final_0/W266_Final/model_4/saved/train/model-63008\n",
      "---------------------------------------------------------------------------\n",
      "INFO:tensorflow:ARTICLE:  the state attorney overseeing the probe into the shooting death of 17-year-old trayvon martin is known in florida as a tough prosecutor ready to pursue what she believes is right , even in the face of media glare and public pressure . no stranger to controversial terrain , angela corey spent more than 25 years as an assistant state attorney , trying hundreds of cases . in 2008 she was elected the top prosecutor in the three counties of the 4th judicial circuit , in florida 's northeast corner . since then , corey , 57 , has made waves for the number of cases she brings to trial . she 's also rejected heated criticism , particularly over her prosecution of a 12-year-old boy for murder . corey is trying him as an adult . corey `` lives up to every prosecutor 's mantra to be ` tough on crime , ' '' wrote michael hallett and daniel __pontzer__ , criminology professors at the university of north florida , in a study published this year . in 2010 , duval county , which corey oversees , `` had the highest incarceration rate of any jurisdiction over 500,000 in florida , '' the professors note . from 2008 through 2011 , duval county 's average daily jail population rose from __3,725__ to __3,990__ -lrb- an increase of 7.1 % -rrb- , according to the study . corey 's record shows she chooses cases based not only on possibility for success at trial , but also `` wherever charges seem warranted , '' the study says . the depiction of corey as one of the state 's toughest prosecutors is likely welcome news to those who believe george zimmerman should be charged . zimmerman , a neighborhood watch volunteer , says he shot martin in self-defense february 26 . corey has described martin 's family as `` lovely people . '' she said she has met with them and prayed with them and promised to get them answers . florida gov. rick scott appointed corey to take over after state attorney norm __wolfinger__ stepped aside amid complaints over his handling of the case . __wolfinger__ 's 18th judicial circuit includes seminole county , where the shooting took place . scott announced that he and attorney general pam bondi `` have full faith '' in corey to handle the case , which is playing out under a microscope amid worldwide media attention . but corey has detractors as well , who cast her as too aggressive . three petitions on the website change.org , calling for her to be removed from office , have about 2,500 signatures combined . one complains that she __prosecutes__ too many cases without adequate regard for the facts . a petition calling for 12-year-old cristian fernandez to be treated as a juvenile rather than an adult has nearly 185,000 signatures . he is accused of violently killing his 2-year-old brother . corey has said she has compassion for cristian , but that `` it 's not my job to forgive . '' and the two professors state in their report that corey 's propensity for bringing charges `` poses great strain on the system and there has already been conflict between ms. corey 's office and the sitting judges due to the increased __caseload__ . even sitting judges agree that it 's ms. corey 's office driving the higher incarceration . '' on her 2008 campaign website , corey vowed to `` continue my excellent working relationship with law enforcement so that together we can vigorously fight crime . only then can we make our community among the safest in the nation . '' it 's a commitment she has expressed in interviews with cnn and hln about the martin case . `` every aspect of both the shooter and the victim will be looked at and analyzed as it relates to the evidence in this case , '' corey vowed to hln . discussing florida 's `` stand your ground '' law -- which allows people to use deadly force in situations in which they feel a reasonable threat of death or serious injury -- corey said , `` our laws are very clear that it has to be a forcible felony and that a reasonable person would have to believe that deadly force is necessary as opposed to just physical force , fighting back and that sort of thing . i 've prosecuted a woman who shot her husband and killed him because he slapped her , and we argued that was not deadly force and she was convicted and sent to state prison . '' the `` political outcry '' over the trayvon martin case makes prosecutors ' work harder , she said . `` we would hope that people would give us a chance to get this task that the governor has given us accomplished , '' she told cnn . `` we will leave no stone unturned in our quest to seek justice for trayvon and for his parents . '' a native of jacksonville , florida , corey is active in the republican party and her episcopal church . she got her legal degree at the university of florida and began her legal career at a private firm specializing in insurance defense . she joined the state attorney 's office in 1981 .\n",
      "INFO:tensorflow:REFERENCE SUMMARY: angela corey lives up to the `` tough on crime '' mantra , two !!__criminologists__!! say . governor said he has `` full faith '' in her , but critics describe her as too aggressive . the case of a 12-year-old to be tried as an adult sparked controversy .\n",
      "INFO:tensorflow:GENERATED SUMMARY: angela corey , 57 , was elected the top prosecutor for the first time to be released . she says the shooting death of trayvon martin was a `` have the highest incarceration '' for the case , '' the study says .\n",
      "---------------------------------------------------------------------------\n",
      "INFO:tensorflow:Wrote visualization data to /home/ubuntu/W266/final_0/W266_Final/model_4/saved/decode/attn_vis_data.json\n"
     ]
    }
   ],
   "source": [
    "batches = tutil.get_decode_data(hps,vocab,hps.data_path,True)\n",
    "tf.reset_default_graph()\n",
    "model_params = dict(hps=hps, \n",
    "                    vocab=vocab)\n",
    "\n",
    "lm = SummarizationModel(**model_params)\n",
    "lm.BuildCoreGraph()\n",
    "lm.BuildSamplerGraph()\n",
    "lm.summarizeGraph()\n",
    "\n",
    "with lm.graph.as_default():\n",
    "    initializer = tf.global_variables_initializer()\n",
    "    saver = tf.train.Saver()\n",
    "\n",
    "with tf.Session(graph=lm.graph) as session:\n",
    "    decoder = BeamSearchDecoder(lm, session, vocab, hps, saver)\n",
    "    decoder.decodeOneSample(batches) \n",
    "\n"
   ]
  },
  {
   "cell_type": "code",
   "execution_count": null,
   "metadata": {},
   "outputs": [],
   "source": []
  }
 ],
 "metadata": {
  "kernelspec": {
   "display_name": "Environment (conda_tensorflow_p36)",
   "language": "python",
   "name": "conda_tensorflow_p36"
  },
  "language_info": {
   "codemirror_mode": {
    "name": "ipython",
    "version": 3
   },
   "file_extension": ".py",
   "mimetype": "text/x-python",
   "name": "python",
   "nbconvert_exporter": "python",
   "pygments_lexer": "ipython3",
   "version": "3.6.6"
  }
 },
 "nbformat": 4,
 "nbformat_minor": 2
}
